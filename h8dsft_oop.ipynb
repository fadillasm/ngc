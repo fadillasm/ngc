{
 "cells": [
  {
   "cell_type": "markdown",
   "metadata": {},
   "source": [
    "# NGC 3"
   ]
  },
  {
   "cell_type": "markdown",
   "metadata": {},
   "source": [
    "# Make a class\n",
    "\n",
    "class Library():\n",
    "    def __init__(self, title, author, unique_identifier):\n",
    "        self.title = title\n",
    "        self.author = author\n",
    "        self.unique_identifier = unique_identifier\n",
    "    def __str__(self):\n",
    "        return f\"\"\"\n",
    "        My book named {self.title} written by {self.author}. \n",
    "        Has unique identity named {self.unique_identifier}\"\"\"\n",
    "    \n",
    "    # Make a function to show encapsulated attribute\n",
    "    def adding_book(self):\n",
    "        print(self.adding_book)\n",
    "    def search_title(self):\n",
    "        print(self.search_book)\n",
    "    def search_author(self):\n",
    "        print(self.search_author)\n",
    "    def remove_book(self):\n",
    "        print(self.remove_book)\n",
    "    def displayallbooks(self):\n",
    "        print(self.displayallbooks)\n",
    "\n",
    "    "
   ]
  },
  {
   "cell_type": "markdown",
   "metadata": {},
   "source": [
    "## Create a library catalog system using OOP"
   ]
  },
  {
   "cell_type": "markdown",
   "metadata": {},
   "source": [
    "## Exception Handling and Testing"
   ]
  },
  {
   "cell_type": "code",
   "execution_count": 2,
   "metadata": {},
   "outputs": [
    {
     "name": "stdout",
     "output_type": "stream",
     "text": [
      "Book 'Python Programming' by John Doe added to the catalog.\n",
      "Book 'Data Structures' by Jane Smith added to the catalog.\n",
      "Book 'Machine Learning' by Alice Johnson added to the catalog.\n",
      "Title: Python Programming, Author: John Doe, Unique ID: 123\n",
      "Title: Data Structures, Author: Jane Smith, Unique ID: 456\n",
      "Title: Machine Learning, Author: Alice Johnson, Unique ID: 789\n",
      "\n",
      "Searching for books by author 'Doe':\n",
      "Title: Python Programming, Author: John Doe, Unique ID: 123\n",
      "\n",
      "Removing book with Unique ID 456:\n",
      "Book with Unique ID 456 removed from the catalog.\n",
      "\n",
      "Updated Catalog:\n",
      "Title: Python Programming, Author: John Doe, Unique ID: 123\n",
      "Title: Machine Learning, Author: Alice Johnson, Unique ID: 789\n"
     ]
    }
   ],
   "source": [
    "class Book:\n",
    "    def __init__(self, title, author, unique_id):\n",
    "        self.title = title\n",
    "        self.author = author\n",
    "        self.unique_id = unique_id\n",
    "\n",
    "class LibraryCatalog:\n",
    "    def __init__(self):\n",
    "        self.catalog = []\n",
    "\n",
    "    def add_book(self, title, author, unique_id):\n",
    "        book = Book(title, author, unique_id)\n",
    "        self.catalog.append(book)\n",
    "        print(f\"Book '{title}' by {author} added to the catalog.\")\n",
    "\n",
    "    def search_book(self, search_term):\n",
    "        found_books = [book for book in self.catalog if search_term.lower() in book.title.lower() or search_term.lower() in book.author.lower()]\n",
    "        if found_books:\n",
    "            for book in found_books:\n",
    "                print(f\"Title: {book.title}, Author: {book.author}, Unique ID: {book.unique_id}\")\n",
    "        else:\n",
    "            print(\"No books found matching the search term.\")\n",
    "\n",
    "    def remove_book(self, unique_id):\n",
    "        for book in self.catalog:\n",
    "            if book.unique_id == unique_id:\n",
    "                self.catalog.remove(book)\n",
    "                print(f\"Book with Unique ID {unique_id} removed from the catalog.\")\n",
    "                return\n",
    "        print(\"Book not found in the catalog.\")\n",
    "\n",
    "    def display_books(self):\n",
    "        if self.catalog:\n",
    "            for book in self.catalog:\n",
    "                print(f\"Title: {book.title}, Author: {book.author}, Unique ID: {book.unique_id}\")\n",
    "        else:\n",
    "            print(\"The catalog is empty.\")\n",
    "\n",
    "# Test the Library Catalog System\n",
    "library = LibraryCatalog()\n",
    "\n",
    "try:\n",
    "    library.add_book(\"Python Programming\", \"John Doe\", 123)\n",
    "    library.add_book(\"Data Structures\", \"Jane Smith\", 456)\n",
    "    library.add_book(\"Machine Learning\", \"Alice Johnson\", 789)\n",
    "\n",
    "    library.display_books()\n",
    "\n",
    "    print(\"\\nSearching for books by author 'Doe':\")\n",
    "    library.search_book(\"Doe\")\n",
    "\n",
    "    print(\"\\nRemoving book with Unique ID 456:\")\n",
    "    library.remove_book(456)\n",
    "\n",
    "    print(\"\\nUpdated Catalog:\")\n",
    "    library.display_books()\n",
    "except Exception as e:\n",
    "    print(f\"An error occurred: {e}\")"
   ]
  },
  {
   "cell_type": "code",
   "execution_count": null,
   "metadata": {},
   "outputs": [],
   "source": []
  }
 ],
 "metadata": {
  "kernelspec": {
   "display_name": "Python 3",
   "language": "python",
   "name": "python3"
  },
  "language_info": {
   "codemirror_mode": {
    "name": "ipython",
    "version": 3
   },
   "file_extension": ".py",
   "mimetype": "text/x-python",
   "name": "python",
   "nbconvert_exporter": "python",
   "pygments_lexer": "ipython3",
   "version": "3.10.2"
  }
 },
 "nbformat": 4,
 "nbformat_minor": 2
}
