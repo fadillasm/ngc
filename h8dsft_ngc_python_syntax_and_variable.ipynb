{
 "cells": [
  {
   "cell_type": "markdown",
   "metadata": {},
   "source": [
    "# NGC 1"
   ]
  },
  {
   "cell_type": "markdown",
   "metadata": {},
   "source": [
    "## Task 1"
   ]
  },
  {
   "cell_type": "code",
   "execution_count": 1,
   "metadata": {},
   "outputs": [
    {
     "name": "stdout",
     "output_type": "stream",
     "text": [
      "12\n"
     ]
    }
   ],
   "source": [
    "customer_id = ['B818', 'A461', 'A092', 'A082', 'B341', 'A005', 'A092', 'A461', 'B219', 'B904', 'A901', 'A083', 'B904', 'A092', 'B341', 'B821', 'B341', 'B821', 'B904', 'B818', 'A901', 'A083', 'B818', 'A082', 'B219', 'B219', 'A083', 'A901', 'A082', 'B341', 'B341', 'A083', 'A082', 'B219', 'B439', 'A461', 'A005', 'A901', 'B341', 'A082', 'A083', 'A461', 'A083', 'A901', 'A461', 'A083', 'A082', 'A083', 'B341', 'A901', 'A082', 'A461', 'B219', 'A083', 'B818', 'B821', 'A092', 'B341', 'A461', 'A092', 'A083', 'B821', 'A092']\n",
    "\n",
    "num_unique_customers = len(set(customer_id))\n",
    "print(num_unique_customers)"
   ]
  },
  {
   "cell_type": "markdown",
   "metadata": {},
   "source": [
    "## Task 2"
   ]
  },
  {
   "cell_type": "code",
   "execution_count": 2,
   "metadata": {},
   "outputs": [
    {
     "name": "stdout",
     "output_type": "stream",
     "text": [
      "16\n",
      "[36, 49, 64, 81]\n",
      "[100, 81, 64, 49, 36, 25, 16, 9, 4, 1]\n"
     ]
    }
   ],
   "source": [
    "Data = [1, 4, 9, 16, 25, 36, 49, 64, 81, 100]\n",
    "\n",
    "# Output a: 16\n",
    "output_a = Data[3]\n",
    "print(output_a)\n",
    "\n",
    "# Output b: [36, 49, 64, 81]\n",
    "output_b = Data[5:9]\n",
    "print(output_b)\n",
    "\n",
    "# Output c: [100, 81, 64, 49, 36, 25, 16, 9, 4, 1]\n",
    "output_c = Data[::-1]\n",
    "print(output_c)"
   ]
  },
  {
   "cell_type": "markdown",
   "metadata": {},
   "source": [
    "## Task 3"
   ]
  },
  {
   "cell_type": "code",
   "execution_count": 3,
   "metadata": {},
   "outputs": [
    {
     "name": "stdout",
     "output_type": "stream",
     "text": [
      "['Nanggroe Aceh Darussalam', 'Sumatera Selatan', 'Kalimantan Barat', 'Jawa Timur', 'Sulawesi Selatan', 'Maluku']\n"
     ]
    }
   ],
   "source": [
    "provinsi = {'Nanggroe Aceh Darussalam': 'Aceh', 'Sumatera Selatan': 'Palembang', 'Kalimantan Barat': 'Pontianak', 'Jawa Timur': 'Madiun', 'Sulawesi Selatan': 'Makassar', 'Maluku': 'Ambon'}\n",
    "\n",
    "# Get list of keys available in the dictionary\n",
    "keys_list = list(provinsi.keys())\n",
    "print(keys_list)"
   ]
  },
  {
   "cell_type": "code",
   "execution_count": 4,
   "metadata": {},
   "outputs": [
    {
     "name": "stdout",
     "output_type": "stream",
     "text": [
      "{'Nanggroe Aceh Darussalam': 'Aceh', 'Sumatera Selatan': 'Palembang', 'Kalimantan Barat': 'Pontianak', 'Jawa Timur': 'Surabaya', 'Sulawesi Selatan': 'Makassar', 'Maluku': 'Ambon'}\n"
     ]
    }
   ],
   "source": [
    "provinsi['Jawa Timur'] = 'Surabaya'\n",
    "print(provinsi)"
   ]
  }
 ],
 "metadata": {
  "kernelspec": {
   "display_name": "Python 3",
   "language": "python",
   "name": "python3"
  },
  "language_info": {
   "codemirror_mode": {
    "name": "ipython",
    "version": 3
   },
   "file_extension": ".py",
   "mimetype": "text/x-python",
   "name": "python",
   "nbconvert_exporter": "python",
   "pygments_lexer": "ipython3",
   "version": "3.10.2"
  }
 },
 "nbformat": 4,
 "nbformat_minor": 2
}
