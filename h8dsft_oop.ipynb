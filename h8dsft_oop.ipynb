{
 "cells": [
  {
   "cell_type": "code",
   "execution_count": 27,
   "metadata": {},
   "outputs": [],
   "source": [
    "# TASK\n",
    "\n",
    "## 1 Make classes\n",
    "\n",
    "class LibraryBook:\n",
    "   def __init__(self, title, author, indentifier):\n",
    "      self.title = title\n",
    "      self.author = author\n",
    "      self.identifier = indentifier\n",
    "\n",
    "   def __str__(self):\n",
    "      return f\"{self.identifier}: {self.title} by {self.author}\"\n",
    "\n",
    "class BookCatalog:\n",
    "   def __init__(self):\n",
    "      self.books = []\n",
    "   \n",
    "   def add_book(self, library_book):\n",
    "         if not isinstance(library_book, LibraryBook):\n",
    "            raise ValueError(\"Invalid Book Object\")\n",
    "         self.books.append(library_book)\n",
    "      \n",
    "   def search_books(self, keyword):\n",
    "      found_books = []\n",
    "      for library_book in self.books:\n",
    "         self.books.remove(library_book)\n",
    "         if keyword.lower() in library_book.title.lower() or keyword.lower() in library_book.author.lower():\n",
    "            found_books.append(library_book)\n",
    "      return found_books\n",
    "         \n",
    "   def remove_book(self, library_book):\n",
    "      if library_book in self.books:\n",
    "         self.books.remove(library_book)\n",
    "      else:\n",
    "         raise ValueError(\"Book not found in Catalog\")\n",
    "         \n",
    "   def display_books(self):\n",
    "      if not self.books:\n",
    "         print(\"No books in the catalog\")\n",
    "      else:\n",
    "         for library_book in self.books:\n",
    "            print(library_book)\n",
    "\n",
    "    "
   ]
  },
  {
   "cell_type": "code",
   "execution_count": 28,
   "metadata": {},
   "outputs": [
    {
     "name": "stdout",
     "output_type": "stream",
     "text": [
      "Books by Leila Chudori\n",
      "1: Laut Bercerita by Leila Chudori\n",
      "\n",
      "Removing Jurnal Jo\n",
      "\n",
      "Current books in the catalog:\n",
      "No books in the catalog\n"
     ]
    }
   ],
   "source": [
    "## 2\n",
    "\n",
    "### Adding a book to the catalog.\n",
    "book_catalog = BookCatalog()\n",
    "\n",
    "library_book1 = LibraryBook(\"Laut Bercerita\",\"Leila Chudori\",1)\n",
    "library_book2 = LibraryBook(\"Jurnal Jo\",\"Ken Terate\",2)\n",
    "library_book3 = LibraryBook(\"Dia Tanpa Aku\", \"Esti Kinasih\",3)\n",
    "\n",
    "book_catalog.add_book(library_book1)\n",
    "book_catalog.add_book(library_book2)\n",
    "book_catalog.add_book(library_book3)\n",
    "\n",
    "###Searching for books by title or author.\n",
    "print(\"Books by Leila Chudori\")\n",
    "results = book_catalog.search_books(\"Leila Chudori\")\n",
    "for library_book in results:\n",
    "    print(library_book)\n",
    "\n",
    "###Removing a book from the catalog.\n",
    "print(\"\\nRemoving Jurnal Jo\")\n",
    "book_catalog.remove_book(library_book2)\n",
    "\n",
    "###Displaying all books in the catalog\n",
    "print(\"\\nCurrent books in the catalog:\")\n",
    "book_catalog.display_books()\n"
   ]
  }
 ],
 "metadata": {
  "kernelspec": {
   "display_name": "Python 3",
   "language": "python",
   "name": "python3"
  },
  "language_info": {
   "codemirror_mode": {
    "name": "ipython",
    "version": 3
   },
   "file_extension": ".py",
   "mimetype": "text/x-python",
   "name": "python",
   "nbconvert_exporter": "python",
   "pygments_lexer": "ipython3",
   "version": "3.10.2"
  }
 },
 "nbformat": 4,
 "nbformat_minor": 2
}
