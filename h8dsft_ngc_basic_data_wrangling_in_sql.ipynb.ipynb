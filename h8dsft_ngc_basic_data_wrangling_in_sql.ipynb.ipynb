{
 "cells": [
  {
   "cell_type": "code",
   "execution_count": null,
   "metadata": {},
   "outputs": [],
   "source": [
    "-- create customer table\n",
    "CREATE TABLE customer (\n",
    "    id SERIAL PRIMARY KEY,\n",
    "    costumer_id VARCHAR(50),\n",
    "    customer_name VARCHAR(10),\n",
    "    city\n",
    ");\n",
    "-- create order table\n",
    "CREATE TABLE order (\n",
    "    id SERIAL PRIMARY KEY,\n",
    "    orderid VARCHAR(50),\n",
    "    customer_id INTEGER,\n",
    "    order_date INTEGER REFERENCES campus(id),\n",
    "    total_amount FLOAT\n",
    ");"
   ]
  }
 ],
 "metadata": {
  "language_info": {
   "name": "python"
  }
 },
 "nbformat": 4,
 "nbformat_minor": 2
}
