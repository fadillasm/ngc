{
 "cells": [
  {
   "cell_type": "code",
   "execution_count": 1,
   "metadata": {},
   "outputs": [
    {
     "name": "stderr",
     "output_type": "stream",
     "text": [
      "EEEEEE\n",
      "======================================================================\n",
      "ERROR: test_add_book (__main__.BookCatalogTests)\n",
      "----------------------------------------------------------------------\n",
      "Traceback (most recent call last):\n",
      "  File \"C:\\Users\\Fadilla Sania\\AppData\\Local\\Temp\\ipykernel_29616\\2726606703.py\", line 5, in setUp\n",
      "    self.catalog = BookCatalog()\n",
      "NameError: name 'BookCatalog' is not defined\n",
      "\n",
      "======================================================================\n",
      "ERROR: test_add_invalid_book (__main__.BookCatalogTests)\n",
      "----------------------------------------------------------------------\n",
      "Traceback (most recent call last):\n",
      "  File \"C:\\Users\\Fadilla Sania\\AppData\\Local\\Temp\\ipykernel_29616\\2726606703.py\", line 5, in setUp\n",
      "    self.catalog = BookCatalog()\n",
      "NameError: name 'BookCatalog' is not defined\n",
      "\n",
      "======================================================================\n",
      "ERROR: test_remove_book (__main__.BookCatalogTests)\n",
      "----------------------------------------------------------------------\n",
      "Traceback (most recent call last):\n",
      "  File \"C:\\Users\\Fadilla Sania\\AppData\\Local\\Temp\\ipykernel_29616\\2726606703.py\", line 5, in setUp\n",
      "    self.catalog = BookCatalog()\n",
      "NameError: name 'BookCatalog' is not defined\n",
      "\n",
      "======================================================================\n",
      "ERROR: test_remove_nonexistent_book (__main__.BookCatalogTests)\n",
      "----------------------------------------------------------------------\n",
      "Traceback (most recent call last):\n",
      "  File \"C:\\Users\\Fadilla Sania\\AppData\\Local\\Temp\\ipykernel_29616\\2726606703.py\", line 5, in setUp\n",
      "    self.catalog = BookCatalog()\n",
      "NameError: name 'BookCatalog' is not defined\n",
      "\n",
      "======================================================================\n",
      "ERROR: test_search_books_by_author (__main__.BookCatalogTests)\n",
      "----------------------------------------------------------------------\n",
      "Traceback (most recent call last):\n",
      "  File \"C:\\Users\\Fadilla Sania\\AppData\\Local\\Temp\\ipykernel_29616\\2726606703.py\", line 5, in setUp\n",
      "    self.catalog = BookCatalog()\n",
      "NameError: name 'BookCatalog' is not defined\n",
      "\n",
      "======================================================================\n",
      "ERROR: test_search_books_by_title (__main__.BookCatalogTests)\n",
      "----------------------------------------------------------------------\n",
      "Traceback (most recent call last):\n",
      "  File \"C:\\Users\\Fadilla Sania\\AppData\\Local\\Temp\\ipykernel_29616\\2726606703.py\", line 5, in setUp\n",
      "    self.catalog = BookCatalog()\n",
      "NameError: name 'BookCatalog' is not defined\n",
      "\n",
      "----------------------------------------------------------------------\n",
      "Ran 6 tests in 0.010s\n",
      "\n",
      "FAILED (errors=6)\n"
     ]
    },
    {
     "data": {
      "text/plain": [
       "<unittest.main.TestProgram at 0x1dff97d3670>"
      ]
     },
     "execution_count": 1,
     "metadata": {},
     "output_type": "execute_result"
    }
   ],
   "source": [
    "import unittest\n",
    "\n",
    "class BookCatalogTests(unittest.TestCase):\n",
    "    def setUp(self):\n",
    "        self.catalog = BookCatalog()\n",
    "        self.book1 = LibraryBook(\"Title 1\", \"Author 1\", 1)\n",
    "        self.book2 = LibraryBook(\"Title 2\", \"Author 2\", 2)\n",
    "        self.book3 = LibraryBook(\"Title 3\", \"Author 1\", 3)\n",
    "        self.catalog.add_book(self.book1)\n",
    "        self.catalog.add_book(self.book2)\n",
    "        self.catalog.add_book(self.book3)\n",
    "\n",
    "    def test_add_book(self):\n",
    "        new_book = LibraryBook(\"New Book\", \"New Author\", 4)\n",
    "        self.catalog.add_book(new_book)\n",
    "        self.assertIn(new_book, self.catalog.books)\n",
    "\n",
    "    def test_add_invalid_book(self):\n",
    "        with self.assertRaises(ValueError):\n",
    "            self.catalog.add_book(\"Invalid book object\")\n",
    "\n",
    "    def test_search_books_by_title(self):\n",
    "        results = self.catalog.search_books(\"Title\")\n",
    "        self.assertEqual(len(results), 3)\n",
    "        self.assertIn(self.book1, results)\n",
    "        self.assertIn(self.book2, results)\n",
    "        self.assertIn(self.book3, results)\n",
    "\n",
    "    def test_search_books_by_author(self):\n",
    "        results = self.catalog.search_books(\"Author 1\")\n",
    "        self.assertEqual(len(results), 2)\n",
    "        self.assertIn(self.book1, results)\n",
    "        self.assertIn(self.book3, results)\n",
    "\n",
    "    def test_remove_book(self):\n",
    "        self.catalog.remove_book(self.book2)\n",
    "        self.assertNotIn(self.book2, self.catalog.books)\n",
    "        self.assertIn(self.book1, self.catalog.books)\n",
    "\n",
    "    def test_remove_nonexistent_book(self):\n",
    "        invalid_book = LibraryBook(\"Invalid Title\", \"Invalid Author\", 99)\n",
    "        with self.assertRaises(ValueError):\n",
    "            self.catalog.remove_book(invalid_book)\n",
    "\n",
    "# Running\n",
    "unittest.main(argv=[''], exit=False)\n"
   ]
  },
  {
   "cell_type": "code",
   "execution_count": null,
   "metadata": {},
   "outputs": [],
   "source": []
  }
 ],
 "metadata": {
  "kernelspec": {
   "display_name": "Python 3",
   "language": "python",
   "name": "python3"
  },
  "language_info": {
   "codemirror_mode": {
    "name": "ipython",
    "version": 3
   },
   "file_extension": ".py",
   "mimetype": "text/x-python",
   "name": "python",
   "nbconvert_exporter": "python",
   "pygments_lexer": "ipython3",
   "version": "3.10.2"
  }
 },
 "nbformat": 4,
 "nbformat_minor": 2
}
