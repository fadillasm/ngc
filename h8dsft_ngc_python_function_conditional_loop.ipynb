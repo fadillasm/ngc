{
 "cells": [
  {
   "cell_type": "code",
   "execution_count": 1,
   "metadata": {},
   "outputs": [],
   "source": [
    "# TASK 1 - Number of Word\n",
    "def number_of_word(sentence):\n",
    "    x = sentence.split()\n",
    "\n",
    "    return len(x)"
   ]
  },
  {
   "cell_type": "code",
   "execution_count": 2,
   "metadata": {},
   "outputs": [
    {
     "name": "stdout",
     "output_type": "stream",
     "text": [
      "2\n",
      "8\n"
     ]
    }
   ],
   "source": [
    "print (number_of_word(sentence='Hello World!'))\n",
    "print (number_of_word(sentence='Once Upon a Time in a faraway land'))"
   ]
  },
  {
   "cell_type": "code",
   "execution_count": 2,
   "metadata": {},
   "outputs": [
    {
     "name": "stdout",
     "output_type": "stream",
     "text": [
      "[5, 10, 15, 20]\n",
      "[10, 20, 30, 40, 50]\n"
     ]
    }
   ],
   "source": [
    "# TASK  2 - Find Multiple\n",
    "\n",
    "def find_multiples(start_range, end_range, multiple):\n",
    " multiples = [] \n",
    " for num in range(start_range, end_range + 1):\n",
    "   if num % multiple == 0: \n",
    "     multiples.append(num)  \n",
    " return multiples\n",
    "\n",
    "print(find_multiples(start_range=1, end_range=20, multiple=5)) \n",
    "print(find_multiples(start_range=1, end_range=50, multiple=10)) "
   ]
  },
  {
   "cell_type": "code",
   "execution_count": 7,
   "metadata": {},
   "outputs": [
    {
     "name": "stdout",
     "output_type": "stream",
     "text": [
      "{'Albert': 'A', 'Dwi': 'B', 'Syahdan': 'D', 'Veronica': 'B'}\n"
     ]
    }
   ],
   "source": [
    "# TASK 3 - Grade Converter\n",
    "\n",
    "def grade_converter (convert_to, **score):\n",
    "        result = {}\n",
    "        if convert_to == 'gpa':\n",
    "                for name, score in score.items():\n",
    "                        result[name] = convertgpa(score)\n",
    "                \n",
    "        elif  convert_to == 'letter_grade':\n",
    "                for name, score in score.items():\n",
    "                        result[name] = convertltr(score)\n",
    "                \n",
    "                return result\n",
    "\n",
    "def convertgpa(type,score):\n",
    "        if score >= 85:\n",
    "                return \"4\"\n",
    "        elif score >= 70:\n",
    "                return \"3\"\n",
    "        elif score >= 60:\n",
    "                return \"2.5\"\n",
    "        elif score >= 50:\n",
    "                return \"2\"\n",
    "        elif score >= 40:\n",
    "                return \"1.5\"\n",
    "        else:\n",
    "                return \"1\"\n",
    "        \n",
    "def convertltr(score):\n",
    "        if score >= 85:\n",
    "                return \"A\"\n",
    "        if score >= 70:\n",
    "                return \"B\"\n",
    "        if score >= 60:\n",
    "                return \"C\"\n",
    "        if score >= 50:\n",
    "                return \"D\"\n",
    "        if score >= 40:\n",
    "                return \"E\"\n",
    "        else:\n",
    "                return \"F\"\n",
    "        \n",
    "print(grade_converter(convert_to='letter_grade', Albert=90, Dwi=82, Syahdan=58, Veronica=84))"
   ]
  },
  {
   "cell_type": "code",
   "execution_count": 11,
   "metadata": {},
   "outputs": [
    {
     "name": "stdout",
     "output_type": "stream",
     "text": [
      "[0, 1, 1]\n"
     ]
    }
   ],
   "source": [
    "# TASK 4 - Fibonacci Sequence\n",
    "\n",
    "def fibonaci(n):\n",
    "    if n == 0:\n",
    "        return 0\n",
    "    else:\n",
    "        ans = [0,1]\n",
    "        while len(ans) < n + 1 :\n",
    "            ans = ans + [ans[-1] + ans[-2]]\n",
    "        return ans\n",
    "        \n",
    "print(fibonaci(2))"
   ]
  },
  {
   "cell_type": "code",
   "execution_count": 12,
   "metadata": {},
   "outputs": [
    {
     "data": {
      "text/plain": [
       "[0, 1, 1, 2, 3]"
      ]
     },
     "execution_count": 12,
     "metadata": {},
     "output_type": "execute_result"
    }
   ],
   "source": [
    "abc = [0, 1, 1, 2] + [2+1]\n",
    "\n",
    "abc"
   ]
  },
  {
   "cell_type": "code",
   "execution_count": 13,
   "metadata": {},
   "outputs": [
    {
     "data": {
      "text/plain": [
       "13"
      ]
     },
     "execution_count": 13,
     "metadata": {},
     "output_type": "execute_result"
    }
   ],
   "source": [
    "def fibonaci(y):\n",
    "    if y<0:\n",
    "        print(\"Masukkan angka urutan yang\")\n",
    "    elif y==0:\n",
    "        return 0\n",
    "    elif y==1 or y==2:\n",
    "        return 1\n",
    "    else:\n",
    "        return fibonaci(y-1) + fibonaci (y-2)\n",
    "    \n",
    "fibonaci(7)"
   ]
  }
 ],
 "metadata": {
  "kernelspec": {
   "display_name": "Python 3",
   "language": "python",
   "name": "python3"
  },
  "language_info": {
   "codemirror_mode": {
    "name": "ipython",
    "version": 3
   },
   "file_extension": ".py",
   "mimetype": "text/x-python",
   "name": "python",
   "nbconvert_exporter": "python",
   "pygments_lexer": "ipython3",
   "version": "3.10.2"
  }
 },
 "nbformat": 4,
 "nbformat_minor": 2
}
