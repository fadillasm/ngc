{
 "cells": [
  {
   "cell_type": "markdown",
   "metadata": {},
   "source": [
    "# NGC 2"
   ]
  },
  {
   "cell_type": "code",
   "execution_count": 2,
   "metadata": {},
   "outputs": [
    {
     "name": "stdout",
     "output_type": "stream",
     "text": [
      "1\n",
      "22\n",
      "333\n",
      "4444\n",
      "55555\n",
      "666666\n",
      "7777777\n",
      "88888888\n",
      "999999999\n"
     ]
    }
   ],
   "source": [
    "rows = 9\n",
    "\n",
    "for i in range(1, rows + 1):\n",
    "    for j in range(i):\n",
    "        print(i, end='')\n",
    "    print()"
   ]
  },
  {
   "cell_type": "code",
   "execution_count": 3,
   "metadata": {},
   "outputs": [
    {
     "name": "stdout",
     "output_type": "stream",
     "text": [
      "Password is valid.\n",
      "Password is invalid.\n",
      "Password is invalid.\n"
     ]
    }
   ],
   "source": [
    "import re\n",
    "\n",
    "def check_password_validity(password):\n",
    "    if 6 <= len(password) <= 16:\n",
    "        if re.search(r\"[a-z]\", password) and re.search(r\"[A-Z]\", password) and re.search(r\"[0-9]\", password) and re.search(r\"[$#@]\", password):\n",
    "            return \"Password is valid.\"\n",
    "    return \"Password is invalid.\"\n",
    "\n",
    "# Test the password validity\n",
    "password1 = \"Passw0rd1@\"\n",
    "password2 = \"weakpass\"\n",
    "password3 = \"StrongPassword123#SpecialCharacter\"\n",
    "\n",
    "print(check_password_validity(password1))\n",
    "print(check_password_validity(password2))\n",
    "print(check_password_validity(password3))"
   ]
  }
 ],
 "metadata": {
  "kernelspec": {
   "display_name": "Python 3",
   "language": "python",
   "name": "python3"
  },
  "language_info": {
   "codemirror_mode": {
    "name": "ipython",
    "version": 3
   },
   "file_extension": ".py",
   "mimetype": "text/x-python",
   "name": "python",
   "nbconvert_exporter": "python",
   "pygments_lexer": "ipython3",
   "version": "3.10.2"
  }
 },
 "nbformat": 4,
 "nbformat_minor": 2
}
